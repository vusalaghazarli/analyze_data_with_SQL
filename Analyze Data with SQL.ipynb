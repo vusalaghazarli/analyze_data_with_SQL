{
 "cells": [
  {
   "cell_type": "markdown",
   "id": "372e54e2-4334-4039-83e2-60994cf0b70a",
   "metadata": {},
   "source": [
    "# Analyze Data with SQL"
   ]
  },
  {
   "cell_type": "markdown",
   "id": "fafa71b9-3abe-459b-a1f5-fabadc691346",
   "metadata": {},
   "source": [
    "In this project, I am going to use a type of `SQL` to create and connect to a database, create tables, and insert values to the tables with a powerful SQLite3 module as a part of the `Python`'s standard library. SQL syntax may differ slightly depending on which `Relational Database Management Systems (RDBMS)` you are using. SQLite can store an entire database in a single file and access the database as a type of `RDBMS`. One of the most significant advantages is that all of the data can be stored locally without having to connect a database to a server. Firstly, connection will be instantiated to a database named `university` and a cursor object will be created, then tables will be described as shown below names:\n",
    "- `Students`\n",
    "- `Teachers`\n",
    "- `Exams`\n",
    "\n",
    "`Foreign keys` will be established to create a relationship between defined `primary` and `unique keys` which are called `referenced keys`. The variables of `exams` as a `child table` will be `referencing` on the `primary keys` of `students` and `teachers` tables as a `parent`."
   ]
  },
  {
   "cell_type": "code",
   "execution_count": 1,
   "id": "b910625e-4f95-4a99-be23-319b48cd7bee",
   "metadata": {},
   "outputs": [],
   "source": [
    "# importing necessary libraries\n",
    "import sqlite3\n",
    "import pandas as pd"
   ]
  },
  {
   "cell_type": "code",
   "execution_count": 2,
   "id": "21e61561-2305-46ea-8089-b6cb02198eb2",
   "metadata": {},
   "outputs": [],
   "source": [
    "# creating and connecting to database\n",
    "conn = sqlite3.connect('university.db')"
   ]
  },
  {
   "cell_type": "code",
   "execution_count": 4,
   "id": "ce3522e1-2f51-4d24-8632-ba284bb4b631",
   "metadata": {},
   "outputs": [],
   "source": [
    "# creating cursor object\n",
    "cursor = conn.cursor()"
   ]
  },
  {
   "cell_type": "markdown",
   "id": "3d3a8804-0597-434a-8f84-f2ff29460b3d",
   "metadata": {},
   "source": [
    "<b> Creating Students, Teachers and Exams Tables in `university` database:"
   ]
  },
  {
   "cell_type": "code",
   "execution_count": 8,
   "id": "e5a8ba61-0154-4d74-bcd2-c3433ef91a7d",
   "metadata": {},
   "outputs": [
    {
     "data": {
      "text/plain": [
       "<sqlite3.Cursor at 0x1fd1b272340>"
      ]
     },
     "execution_count": 8,
     "metadata": {},
     "output_type": "execute_result"
    }
   ],
   "source": [
    "cursor.execute ('''CREATE TABLE students (\n",
    "                                id NUMBER PRIMARY KEY,\n",
    "                                name VARCHAR2(20) NOT NULL,\n",
    "                                email VARCHAR2(30) NOT NULL UNIQUE,\n",
    "                                major_code NUMBER,\n",
    "                                grade_date DATE,\n",
    "                                grade NUMBER NOT NULL)''')"
   ]
  },
  {
   "cell_type": "code",
   "execution_count": 9,
   "id": "86a20f70-418b-49b6-bfaf-f2ff89a5b82c",
   "metadata": {},
   "outputs": [
    {
     "data": {
      "text/plain": [
       "<sqlite3.Cursor at 0x1fd1b272340>"
      ]
     },
     "execution_count": 9,
     "metadata": {},
     "output_type": "execute_result"
    }
   ],
   "source": [
    "cursor.execute('''CREATE TABLE teachers (\n",
    "                                id NUMBER PRIMARY KEY,\n",
    "                                name VARCHAR2(20) NOT NULL,\n",
    "                                subject VARCHAR2(40),\n",
    "                                age NUMBER NOT NULL)''')"
   ]
  },
  {
   "cell_type": "code",
   "execution_count": 10,
   "id": "f2b67e11-6ad1-4ed5-a3bb-4a01fc388c24",
   "metadata": {},
   "outputs": [
    {
     "data": {
      "text/plain": [
       "<sqlite3.Cursor at 0x1fd1b272340>"
      ]
     },
     "execution_count": 10,
     "metadata": {},
     "output_type": "execute_result"
    }
   ],
   "source": [
    "cursor.execute('''CREATE TABLE exams (\n",
    "                                student_id REFERENCES students (id) ON DELETE CASCADE,\n",
    "                                teacher_id REFERENCES teachers (id) ON DELETE SET NULL)''')"
   ]
  },
  {
   "cell_type": "markdown",
   "id": "cba20367-4f17-4e98-b9ce-7674e58d0f7b",
   "metadata": {},
   "source": [
    "<b> Tables were defined and created with `constraints` above. Now `insert into` and `executemany` statements will be used in order to insert values to the tables by using `cursor object`."
   ]
  },
  {
   "cell_type": "code",
   "execution_count": 11,
   "id": "2c708d75-dd30-4693-8d84-e5ebe8d7ac7f",
   "metadata": {},
   "outputs": [
    {
     "data": {
      "text/plain": [
       "<sqlite3.Cursor at 0x1fd1b272340>"
      ]
     },
     "execution_count": 11,
     "metadata": {},
     "output_type": "execute_result"
    }
   ],
   "source": [
    "# inserting only a row to students table\n",
    "cursor.execute('''INSERT INTO students VALUES (\n",
    "                                        1, 'John', 'john@example.com', 13, '2022-06-13', 85) ''')"
   ]
  },
  {
   "cell_type": "code",
   "execution_count": 12,
   "id": "da7a38a7-480b-4e79-8e1f-65f1ad5e2a59",
   "metadata": {},
   "outputs": [],
   "source": [
    "# creating students info list as a values\n",
    "students_info = [(2, 'Joe', 'joe@example.com', 32, '2022-05-16', 77),\n",
    "            (3, 'Stacy', 'stacy@example.com', 10, '2022-05-16', 91),\n",
    "            (4, 'Adam', 'adam@example.com', 21, '2022-12-20', 94),\n",
    "            (5, 'Mark', 'mark@example.com', 10, '2022-07-20', 50),\n",
    "            (6, 'Nathan', 'nathan@example.com', 13, '2022-12-20', 87),\n",
    "            (7, 'Alla', 'alla@example.com', 32, '2022-12-20', 66),\n",
    "            (8, 'Lala', 'lala@example.com', 21, '2022-07-20', 73),\n",
    "            (9, 'Tom', 'tom@example.com', 44, '2022-06-20', 51),\n",
    "            (10, 'Andrew', 'andrew@example.com', 21, '2022-06-20', 87)\n",
    "            ]"
   ]
  },
  {
   "cell_type": "code",
   "execution_count": 13,
   "id": "b551c436-6d6e-4516-be54-048b10f79980",
   "metadata": {},
   "outputs": [
    {
     "data": {
      "text/plain": [
       "<sqlite3.Cursor at 0x1fd1b272340>"
      ]
     },
     "execution_count": 13,
     "metadata": {},
     "output_type": "execute_result"
    }
   ],
   "source": [
    "# inserting multiple values into students table at once\n",
    "cursor.executemany('''INSERT INTO students VALUES (?, ?, ?, ?, ?, ?)''', students_info)"
   ]
  },
  {
   "cell_type": "code",
   "execution_count": 14,
   "id": "3c44b4c4-c94b-4bbb-a0c5-1b43f38cd4bf",
   "metadata": {},
   "outputs": [
    {
     "data": {
      "text/plain": [
       "<sqlite3.Cursor at 0x1fd1b272340>"
      ]
     },
     "execution_count": 14,
     "metadata": {},
     "output_type": "execute_result"
    }
   ],
   "source": [
    "# inserting only a row to teachers table\n",
    "cursor.execute('''INSERT INTO teachers VALUES (\n",
    "                                        100, 'Jonathan', 'Data Science', 44)''')"
   ]
  },
  {
   "cell_type": "code",
   "execution_count": 15,
   "id": "5d29bc3c-deaa-44f9-a0b1-b21a5e34fa7a",
   "metadata": {},
   "outputs": [],
   "source": [
    "# creating teachers info list as a values\n",
    "teachers_info = [(101, 'Thomas', 'Information Technology', 38),\n",
    "            (102, 'Bernard', 'Biology', 46),\n",
    "            (103, 'Sophie', 'Geography', 32),\n",
    "            (104, 'Anna', 'Physics', 53),\n",
    "            (105, 'Emma', 'Chemistry', 47),\n",
    "            (106,'Johnny', 'Robotics', 36),\n",
    "            (107, 'James', 'Astrology', 29),\n",
    "            (108, 'Ayla', 'Machine Learning', 35),\n",
    "            (109, 'Jones', 'AI', 49),\n",
    "            ]"
   ]
  },
  {
   "cell_type": "code",
   "execution_count": 16,
   "id": "5df15bde-90f9-46f1-9587-ae1ceb142036",
   "metadata": {},
   "outputs": [
    {
     "data": {
      "text/plain": [
       "<sqlite3.Cursor at 0x1fd1b272340>"
      ]
     },
     "execution_count": 16,
     "metadata": {},
     "output_type": "execute_result"
    }
   ],
   "source": [
    "# inserting multiple values into teachers table at once\n",
    "cursor.executemany('''INSERT INTO teachers VALUES (?, ?, ?, ?)''', teachers_info)"
   ]
  },
  {
   "cell_type": "code",
   "execution_count": 17,
   "id": "e60e71b0-ee87-43fd-9df2-d258be8232d8",
   "metadata": {},
   "outputs": [],
   "source": [
    "# creating exams schedule list\n",
    "exams_schedule = [(1, 103),\n",
    "        (3, 100),\n",
    "        (2, 103),\n",
    "        (6, 109),\n",
    "        (9, 100),\n",
    "        (10, 104),\n",
    "        (2, 103),\n",
    "        (4, 106),\n",
    "        (2, 106),\n",
    "        (9, 100)]"
   ]
  },
  {
   "cell_type": "code",
   "execution_count": 18,
   "id": "f6f33451-5178-4136-b305-c444f8ced531",
   "metadata": {},
   "outputs": [
    {
     "data": {
      "text/plain": [
       "<sqlite3.Cursor at 0x1fd1b272340>"
      ]
     },
     "execution_count": 18,
     "metadata": {},
     "output_type": "execute_result"
    }
   ],
   "source": [
    "# inserting values to exams table\n",
    "cursor.executemany('''INSERT INTO exams VALUES (?, ?)''', exams_schedule)"
   ]
  },
  {
   "cell_type": "markdown",
   "id": "b44a52ab-140a-4907-a4dc-c7499aa0ae2c",
   "metadata": {},
   "source": [
    "<b> `University database`and `relational tables` were created above. Now the `cursor object` will be used to reach out to the `rows of tables` in a database. Then `SQLite3` `fetchone(), fetchmany(), fetchall() methods` will be used or will be looped in each table `to return to the values`."
   ]
  },
  {
   "cell_type": "markdown",
   "id": "c677c63c-a4d1-4a7d-9a87-528896021890",
   "metadata": {},
   "source": [
    "<b> `fetchone(), fetchmany(), fetchall()` Methods:"
   ]
  },
  {
   "cell_type": "code",
   "execution_count": 19,
   "id": "ae4190b5-2588-4452-ab28-2984a8e8c0f9",
   "metadata": {},
   "outputs": [
    {
     "data": {
      "text/plain": [
       "(1, 'John', 'john@example.com', 13, '2022-06-13', 85)"
      ]
     },
     "execution_count": 19,
     "metadata": {},
     "output_type": "execute_result"
    }
   ],
   "source": [
    "# fetchone() method\n",
    "cursor.execute('''SELECT * \n",
    "                  FROM students''').fetchone()"
   ]
  },
  {
   "cell_type": "code",
   "execution_count": 20,
   "id": "3e871fb6-0299-49ea-be90-53fddb085668",
   "metadata": {},
   "outputs": [
    {
     "data": {
      "text/plain": [
       "[(1, 'John', 'john@example.com', 13, '2022-06-13', 85),\n",
       " (2, 'Joe', 'joe@example.com', 32, '2022-05-16', 77),\n",
       " (3, 'Stacy', 'stacy@example.com', 10, '2022-05-16', 91)]"
      ]
     },
     "execution_count": 20,
     "metadata": {},
     "output_type": "execute_result"
    }
   ],
   "source": [
    "# fetchmany() method\n",
    "cursor.execute('''SELECT * \n",
    "                  FROM students''').fetchmany(3)"
   ]
  },
  {
   "cell_type": "code",
   "execution_count": 21,
   "id": "5e18f595-cad0-4002-a97c-982578585761",
   "metadata": {},
   "outputs": [
    {
     "data": {
      "text/plain": [
       "[(1, 'John', 'john@example.com', 13, '2022-06-13', 85),\n",
       " (2, 'Joe', 'joe@example.com', 32, '2022-05-16', 77),\n",
       " (3, 'Stacy', 'stacy@example.com', 10, '2022-05-16', 91),\n",
       " (4, 'Adam', 'adam@example.com', 21, '2022-12-20', 94),\n",
       " (5, 'Mark', 'mark@example.com', 10, '2022-07-20', 50),\n",
       " (6, 'Nathan', 'nathan@example.com', 13, '2022-12-20', 87),\n",
       " (7, 'Alla', 'alla@example.com', 32, '2022-12-20', 66),\n",
       " (8, 'Lala', 'lala@example.com', 21, '2022-07-20', 73),\n",
       " (9, 'Tom', 'tom@example.com', 44, '2022-06-20', 51),\n",
       " (10, 'Andrew', 'andrew@example.com', 21, '2022-06-20', 87)]"
      ]
     },
     "execution_count": 21,
     "metadata": {},
     "output_type": "execute_result"
    }
   ],
   "source": [
    "# fetchall() method\n",
    "cursor.execute('''SELECT * \n",
    "                  FROM students''').fetchall()"
   ]
  },
  {
   "cell_type": "markdown",
   "id": "68e0ae98-51b1-49b3-8ea3-9d769967ac35",
   "metadata": {},
   "source": [
    "<b> `Loop` Method:"
   ]
  },
  {
   "cell_type": "code",
   "execution_count": 22,
   "id": "c0383acc-d043-4984-97b0-64093c4b4684",
   "metadata": {},
   "outputs": [
    {
     "name": "stdout",
     "output_type": "stream",
     "text": [
      "(1, 'John', 'john@example.com', 13, '2022-06-13', 85)\n",
      "(2, 'Joe', 'joe@example.com', 32, '2022-05-16', 77)\n",
      "(3, 'Stacy', 'stacy@example.com', 10, '2022-05-16', 91)\n",
      "(4, 'Adam', 'adam@example.com', 21, '2022-12-20', 94)\n",
      "(5, 'Mark', 'mark@example.com', 10, '2022-07-20', 50)\n",
      "(6, 'Nathan', 'nathan@example.com', 13, '2022-12-20', 87)\n",
      "(7, 'Alla', 'alla@example.com', 32, '2022-12-20', 66)\n",
      "(8, 'Lala', 'lala@example.com', 21, '2022-07-20', 73)\n",
      "(9, 'Tom', 'tom@example.com', 44, '2022-06-20', 51)\n",
      "(10, 'Andrew', 'andrew@example.com', 21, '2022-06-20', 87)\n"
     ]
    }
   ],
   "source": [
    "# the values of students table\n",
    "for i in cursor.execute('''SELECT * \n",
    "                           FROM students'''):\n",
    "    print(i)"
   ]
  },
  {
   "cell_type": "code",
   "execution_count": 23,
   "id": "81a2ab5d-dbf1-44a0-9dc5-4bc8bff6457d",
   "metadata": {},
   "outputs": [
    {
     "name": "stdout",
     "output_type": "stream",
     "text": [
      "(100, 'Jonathan', 'Data Science', 44)\n",
      "(101, 'Thomas', 'Information Technology', 38)\n",
      "(102, 'Bernard', 'Biology', 46)\n",
      "(103, 'Sophie', 'Geography', 32)\n",
      "(104, 'Anna', 'Physics', 53)\n",
      "(105, 'Emma', 'Chemistry', 47)\n",
      "(106, 'Johnny', 'Robotics', 36)\n",
      "(107, 'James', 'Astrology', 29)\n",
      "(108, 'Ayla', 'Machine Learning', 35)\n",
      "(109, 'Jones', 'AI', 49)\n"
     ]
    }
   ],
   "source": [
    "# the values of teachers table\n",
    "for j in cursor.execute('''SELECT * \n",
    "                           FROM teachers'''):\n",
    "    print(j)"
   ]
  },
  {
   "cell_type": "code",
   "execution_count": 24,
   "id": "3c7ab9d4-ed02-427a-8373-9e01f190a949",
   "metadata": {},
   "outputs": [
    {
     "name": "stdout",
     "output_type": "stream",
     "text": [
      "(1, 103)\n",
      "(3, 100)\n",
      "(2, 103)\n",
      "(6, 109)\n",
      "(9, 100)\n",
      "(10, 104)\n",
      "(2, 103)\n",
      "(4, 106)\n",
      "(2, 106)\n",
      "(9, 100)\n"
     ]
    }
   ],
   "source": [
    "# the values of exams table\n",
    "for k in cursor.execute('''SELECT * \n",
    "                           FROM exams'''):\n",
    "    print(k)"
   ]
  },
  {
   "cell_type": "markdown",
   "id": "9d3dd880-e416-4d59-b572-1c9696ccc7f7",
   "metadata": {},
   "source": [
    "<b> Then all values can be `manipulated` to access, create and update data stored in a database. Additionally, more complex queries can be run using types of statements as ` Data Manipulation Language (DML)`,  `Data Definition Language (DDL)`, `Transaction Control Language (TCL)`."
   ]
  },
  {
   "cell_type": "code",
   "execution_count": 25,
   "id": "b926d1d9-f255-4be9-ab88-08242cfc7966",
   "metadata": {},
   "outputs": [
    {
     "data": {
      "text/plain": [
       "<sqlite3.Cursor at 0x1fd1b272340>"
      ]
     },
     "execution_count": 25,
     "metadata": {},
     "output_type": "execute_result"
    }
   ],
   "source": [
    "# using alter DDL\n",
    "cursor.execute('''ALTER TABLE teachers\n",
    "                  ADD COLUMN city varchar2(20)''')"
   ]
  },
  {
   "cell_type": "code",
   "execution_count": 26,
   "id": "8ddb9e3e-1720-4683-aa4c-58ec7184c8b5",
   "metadata": {},
   "outputs": [
    {
     "data": {
      "text/plain": [
       "[(100, 'Jonathan', 'Data Science', 44, None),\n",
       " (101, 'Thomas', 'Information Technology', 38, None),\n",
       " (102, 'Bernard', 'Biology', 46, None)]"
      ]
     },
     "execution_count": 26,
     "metadata": {},
     "output_type": "execute_result"
    }
   ],
   "source": [
    "# Changes on teachers table after using DDL\n",
    "cursor.execute('''SELECT * \n",
    "                  FROM teachers''').fetchmany(3)"
   ]
  },
  {
   "cell_type": "code",
   "execution_count": 27,
   "id": "737a8d20-04b9-429a-9a03-ea4b322fcd87",
   "metadata": {},
   "outputs": [
    {
     "data": {
      "text/plain": [
       "<sqlite3.Cursor at 0x1fd1b272340>"
      ]
     },
     "execution_count": 27,
     "metadata": {},
     "output_type": "execute_result"
    }
   ],
   "source": [
    "# using update DML\n",
    "cursor.execute('''UPDATE teachers\n",
    "                  SET city = 'Berlin'\n",
    "                  WHERE id BETWEEN 103 AND 106''')"
   ]
  },
  {
   "cell_type": "code",
   "execution_count": 28,
   "id": "43f4586a-64f7-4191-8836-407908c2a673",
   "metadata": {},
   "outputs": [
    {
     "data": {
      "text/plain": [
       "[(100, 'Jonathan', 'Data Science', 44, None),\n",
       " (101, 'Thomas', 'Information Technology', 38, None),\n",
       " (102, 'Bernard', 'Biology', 46, None),\n",
       " (103, 'Sophie', 'Geography', 32, 'Berlin'),\n",
       " (104, 'Anna', 'Physics', 53, 'Berlin'),\n",
       " (105, 'Emma', 'Chemistry', 47, 'Berlin'),\n",
       " (106, 'Johnny', 'Robotics', 36, 'Berlin'),\n",
       " (107, 'James', 'Astrology', 29, None)]"
      ]
     },
     "execution_count": 28,
     "metadata": {},
     "output_type": "execute_result"
    }
   ],
   "source": [
    "cursor.execute('''SELECT * \n",
    "                  FROM teachers \n",
    "                  LIMIT 8''').fetchall()"
   ]
  },
  {
   "cell_type": "code",
   "execution_count": 29,
   "id": "3f6cc2a3-bfd5-4a76-b6bd-18564b668e7b",
   "metadata": {},
   "outputs": [
    {
     "data": {
      "text/plain": [
       "<sqlite3.Cursor at 0x1fd1b272340>"
      ]
     },
     "execution_count": 29,
     "metadata": {},
     "output_type": "execute_result"
    }
   ],
   "source": [
    "cursor.execute('''SELECT * \n",
    "                  FROM students\n",
    "                  WHERE id = 5''')"
   ]
  },
  {
   "cell_type": "code",
   "execution_count": 30,
   "id": "fa2c5add-0490-4727-bafd-07e3122839bb",
   "metadata": {},
   "outputs": [
    {
     "data": {
      "text/plain": [
       "<sqlite3.Cursor at 0x1fd1b272340>"
      ]
     },
     "execution_count": 30,
     "metadata": {},
     "output_type": "execute_result"
    }
   ],
   "source": [
    "cursor.execute('''DELETE FROM students\n",
    "                  WHERE id = 5''')"
   ]
  },
  {
   "cell_type": "code",
   "execution_count": 31,
   "id": "4fd26757-1a02-4ce2-acae-562f14cc6fea",
   "metadata": {},
   "outputs": [
    {
     "name": "stdout",
     "output_type": "stream",
     "text": [
      "(1, 'John', 'john@example.com', 13, '2022-06-13', 85)\n",
      "(2, 'Joe', 'joe@example.com', 32, '2022-05-16', 77)\n",
      "(3, 'Stacy', 'stacy@example.com', 10, '2022-05-16', 91)\n",
      "(4, 'Adam', 'adam@example.com', 21, '2022-12-20', 94)\n"
     ]
    }
   ],
   "source": [
    "for rows in cursor.execute('''SELECT * \n",
    "                              FROM students\n",
    "                              WHERE name LIKE '%J%'\n",
    "                                  OR grade > 90'''):\n",
    "    print(rows)"
   ]
  },
  {
   "cell_type": "code",
   "execution_count": 32,
   "id": "77be2071-6b40-4e97-9e6e-1dcd835db3df",
   "metadata": {},
   "outputs": [
    {
     "name": "stdout",
     "output_type": "stream",
     "text": [
      "(1, 'John', 'john@example.com', 13, '2022-06-13', 85, 'Excellent')\n",
      "(2, 'Joe', 'joe@example.com', 32, '2022-05-16', 77, 'Good')\n",
      "(3, 'Stacy', 'stacy@example.com', 10, '2022-05-16', 91, 'Excellent')\n",
      "(4, 'Adam', 'adam@example.com', 21, '2022-12-20', 94, 'Excellent')\n",
      "(6, 'Nathan', 'nathan@example.com', 13, '2022-12-20', 87, 'Excellent')\n",
      "(7, 'Alla', 'alla@example.com', 32, '2022-12-20', 66, 'Good')\n",
      "(8, 'Lala', 'lala@example.com', 21, '2022-07-20', 73, 'Good')\n",
      "(9, 'Tom', 'tom@example.com', 44, '2022-06-20', 51, 'Good')\n",
      "(10, 'Andrew', 'andrew@example.com', 21, '2022-06-20', 87, 'Excellent')\n"
     ]
    }
   ],
   "source": [
    "# using case statement\n",
    "for rows in cursor.execute('''SELECT *,\n",
    "                                  CASE\n",
    "                                      WHEN students.grade < 51 THEN 'Failed'\n",
    "                                      WHEN students.grade < 81 THEN 'Good'\n",
    "                                      ELSE 'Excellent' \n",
    "                                  END AS 'grade_check'\n",
    "                              FROM students'''\n",
    "                          ):\n",
    "    print(rows)"
   ]
  },
  {
   "cell_type": "code",
   "execution_count": 33,
   "id": "5bf58ede-04de-4be7-a320-d9c8c433d0ae",
   "metadata": {},
   "outputs": [
    {
     "name": "stdout",
     "output_type": "stream",
     "text": [
      "(9, 44)\n",
      "(2, 32)\n",
      "(7, 32)\n",
      "(4, 21)\n",
      "(8, 21)\n",
      "(10, 21)\n",
      "(1, 13)\n",
      "(6, 13)\n",
      "(3, 10)\n"
     ]
    }
   ],
   "source": [
    "# using group by clause\n",
    "for rows in cursor.execute('''SELECT id, major_code\n",
    "                              FROM students\n",
    "                              GROUP BY id, major_code\n",
    "                              ORDER BY major_code DESC'''):\n",
    "    print(rows)"
   ]
  },
  {
   "cell_type": "code",
   "execution_count": 34,
   "id": "3605dab6-0595-4a13-989b-4191a0b2da11",
   "metadata": {},
   "outputs": [
    {
     "name": "stdout",
     "output_type": "stream",
     "text": [
      "(10, 91)\n",
      "(13, 172)\n",
      "(21, 254)\n",
      "(32, 143)\n"
     ]
    }
   ],
   "source": [
    "# group by, having and sum clauses\n",
    "for rows in cursor.execute('''SELECT major_code, SUM (grade) AS total_grade\n",
    "                              FROM students\n",
    "                              GROUP BY major_code\n",
    "                              HAVING total_grade >51'''\n",
    "                          ):\n",
    "    print(rows)"
   ]
  },
  {
   "cell_type": "code",
   "execution_count": 35,
   "id": "c339a33e-ff3e-4b9f-bfc1-173a47f08e33",
   "metadata": {
    "tags": []
   },
   "outputs": [
    {
     "data": {
      "text/plain": [
       "[(100, 'Jonathan', 'Data Science', 44, None),\n",
       " (101, 'Thomas', 'Information Technology', 38, None),\n",
       " (102, 'Bernard', 'Biology', 46, None),\n",
       " (103, 'Sophie', 'Geography', 32, 'Berlin'),\n",
       " (104, 'Anna', 'Physics', 53, 'Berlin'),\n",
       " (105, 'Emma', 'Chemistry', 47, 'Berlin'),\n",
       " (106, 'Johnny', 'Robotics', 36, 'Berlin'),\n",
       " (107, 'James', 'Astrology', 29, None),\n",
       " (108, 'Ayla', 'Machine Learning', 35, None),\n",
       " (109, 'Jones', 'AI', 49, None)]"
      ]
     },
     "execution_count": 35,
     "metadata": {},
     "output_type": "execute_result"
    }
   ],
   "source": [
    "# checking teachers table after all manipulations\n",
    "cursor.execute('''SELECT * \n",
    "                  FROM teachers''').fetchall()"
   ]
  },
  {
   "cell_type": "code",
   "execution_count": 36,
   "id": "9f3fec42-94b9-4600-8edf-a48c6bab6d3b",
   "metadata": {},
   "outputs": [
    {
     "data": {
      "text/plain": [
       "[(1, 'John', 'john@example.com', 13, '2022-06-13', 85),\n",
       " (2, 'Joe', 'joe@example.com', 32, '2022-05-16', 77),\n",
       " (3, 'Stacy', 'stacy@example.com', 10, '2022-05-16', 91),\n",
       " (4, 'Adam', 'adam@example.com', 21, '2022-12-20', 94),\n",
       " (6, 'Nathan', 'nathan@example.com', 13, '2022-12-20', 87),\n",
       " (7, 'Alla', 'alla@example.com', 32, '2022-12-20', 66),\n",
       " (8, 'Lala', 'lala@example.com', 21, '2022-07-20', 73),\n",
       " (9, 'Tom', 'tom@example.com', 44, '2022-06-20', 51),\n",
       " (10, 'Andrew', 'andrew@example.com', 21, '2022-06-20', 87)]"
      ]
     },
     "execution_count": 36,
     "metadata": {},
     "output_type": "execute_result"
    }
   ],
   "source": [
    "# checking students table after all manipulations\n",
    "cursor.execute('''SELECT * \n",
    "                  FROM students''').fetchall()"
   ]
  },
  {
   "cell_type": "markdown",
   "id": "0cce5816-d9c3-42f8-9ecc-60f75635bca8",
   "metadata": {},
   "source": [
    "<b> In order to store data efficiently, we often spread related information across `multiple tables`. Combining tables manually is time-consuming. Luckily, SQL gives us an easy sequence that is called a `JOIN`. Let's combine the `exams` table with `students` and `teachers` tables below using `Join (Inner Join)`, `Left Join (Outer)` and `Cross Join`."
   ]
  },
  {
   "cell_type": "code",
   "execution_count": 37,
   "id": "e879cf64-baa0-495b-b907-f16f0db22f5a",
   "metadata": {},
   "outputs": [
    {
     "name": "stdout",
     "output_type": "stream",
     "text": [
      "(103, 'Sophie', 'Geography', 32, 'Berlin', 1, 103)\n",
      "(100, 'Jonathan', 'Data Science', 44, None, 3, 100)\n",
      "(103, 'Sophie', 'Geography', 32, 'Berlin', 2, 103)\n",
      "(109, 'Jones', 'AI', 49, None, 6, 109)\n",
      "(100, 'Jonathan', 'Data Science', 44, None, 9, 100)\n",
      "(104, 'Anna', 'Physics', 53, 'Berlin', 10, 104)\n",
      "(103, 'Sophie', 'Geography', 32, 'Berlin', 2, 103)\n",
      "(106, 'Johnny', 'Robotics', 36, 'Berlin', 4, 106)\n",
      "(106, 'Johnny', 'Robotics', 36, 'Berlin', 2, 106)\n",
      "(100, 'Jonathan', 'Data Science', 44, None, 9, 100)\n"
     ]
    }
   ],
   "source": [
    "# Join or Inner Join \n",
    "for rows in cursor.execute('''SELECT *\n",
    "                              FROM teachers \n",
    "                              INNER JOIN exams\n",
    "                                  ON teachers.id = exams.teacher_id'''\n",
    "                          ):\n",
    "    print(rows)"
   ]
  },
  {
   "cell_type": "code",
   "execution_count": 38,
   "id": "576dfc5b-61a3-43bc-9370-a4c606fa1b71",
   "metadata": {},
   "outputs": [
    {
     "name": "stdout",
     "output_type": "stream",
     "text": [
      "(1, 103, 1, 'John', 'john@example.com', 13, '2022-06-13', 85)\n",
      "(3, 100, 3, 'Stacy', 'stacy@example.com', 10, '2022-05-16', 91)\n",
      "(2, 103, 2, 'Joe', 'joe@example.com', 32, '2022-05-16', 77)\n",
      "(6, 109, 6, 'Nathan', 'nathan@example.com', 13, '2022-12-20', 87)\n",
      "(9, 100, 9, 'Tom', 'tom@example.com', 44, '2022-06-20', 51)\n",
      "(10, 104, 10, 'Andrew', 'andrew@example.com', 21, '2022-06-20', 87)\n",
      "(2, 103, 2, 'Joe', 'joe@example.com', 32, '2022-05-16', 77)\n",
      "(4, 106, 4, 'Adam', 'adam@example.com', 21, '2022-12-20', 94)\n",
      "(2, 106, 2, 'Joe', 'joe@example.com', 32, '2022-05-16', 77)\n",
      "(9, 100, 9, 'Tom', 'tom@example.com', 44, '2022-06-20', 51)\n"
     ]
    }
   ],
   "source": [
    "# Left or Outer Join\n",
    "for rows in cursor.execute('''SELECT *\n",
    "                              FROM exams\n",
    "                              LEFT JOIN students\n",
    "                                  ON exams.student_id = students.id'''):\n",
    "    print(rows)"
   ]
  },
  {
   "cell_type": "code",
   "execution_count": 39,
   "id": "0adc005f-a046-479c-8cb9-906964d54ee7",
   "metadata": {},
   "outputs": [
    {
     "data": {
      "text/plain": [
       "<sqlite3.Cursor at 0x1fd1b272340>"
      ]
     },
     "execution_count": 39,
     "metadata": {},
     "output_type": "execute_result"
    }
   ],
   "source": [
    "# Cross Join\n",
    "cursor.execute('''SELECT *\n",
    "                  FROM students\n",
    "                  CROSS JOIN exams'''\n",
    "               )"
   ]
  },
  {
   "cell_type": "markdown",
   "id": "9026b75d-faa3-4bf1-bc1a-bb8d2b506084",
   "metadata": {},
   "source": [
    "<b>  Lastly, the `.commit()` clause will be used to commit changes to the database. Then connection to the database will be closed using the `.close()` clause. "
   ]
  },
  {
   "cell_type": "code",
   "execution_count": 40,
   "id": "c558ae79-60d5-4cb1-9133-3319c7eaff58",
   "metadata": {},
   "outputs": [],
   "source": [
    "#Commit changes to database\n",
    "conn.commit()"
   ]
  },
  {
   "cell_type": "code",
   "execution_count": 41,
   "id": "12e68ec6-e269-442b-a17b-208a3ac8f1c1",
   "metadata": {},
   "outputs": [],
   "source": [
    "# Closing the connection\n",
    "conn.close()"
   ]
  },
  {
   "cell_type": "markdown",
   "id": "accae7e8-f30a-4e56-80d1-f4c76968f064",
   "metadata": {},
   "source": [
    "<b> Ultimately, `Python`'s powerful library `pandas` will be used to convert `DataFrame` to a new table by creating a `new database` named `sample` with the `df_to_sql()` method. SQL manipulations, functions can be made with the newly created `titanic table` again. For this method, `titanic.csv` data will be used by reading in a dataframe below."
   ]
  },
  {
   "cell_type": "code",
   "execution_count": 42,
   "id": "3f60b675-081a-4fed-bcf1-62005eac0049",
   "metadata": {},
   "outputs": [],
   "source": [
    "# importing data to DataFrame\n",
    "df = pd.read_csv(\"https://raw.githubusercontent.com/datasciencedojo/datasets/master/titanic.csv\")"
   ]
  },
  {
   "cell_type": "code",
   "execution_count": 44,
   "id": "f38445b7-661a-4b70-8ba3-75b1b25f48d3",
   "metadata": {},
   "outputs": [
    {
     "data": {
      "text/html": [
       "<div>\n",
       "<style scoped>\n",
       "    .dataframe tbody tr th:only-of-type {\n",
       "        vertical-align: middle;\n",
       "    }\n",
       "\n",
       "    .dataframe tbody tr th {\n",
       "        vertical-align: top;\n",
       "    }\n",
       "\n",
       "    .dataframe thead th {\n",
       "        text-align: right;\n",
       "    }\n",
       "</style>\n",
       "<table border=\"1\" class=\"dataframe\">\n",
       "  <thead>\n",
       "    <tr style=\"text-align: right;\">\n",
       "      <th></th>\n",
       "      <th>PassengerId</th>\n",
       "      <th>Survived</th>\n",
       "      <th>Pclass</th>\n",
       "      <th>Name</th>\n",
       "      <th>Sex</th>\n",
       "      <th>Age</th>\n",
       "      <th>SibSp</th>\n",
       "      <th>Parch</th>\n",
       "      <th>Ticket</th>\n",
       "      <th>Fare</th>\n",
       "      <th>Cabin</th>\n",
       "      <th>Embarked</th>\n",
       "    </tr>\n",
       "  </thead>\n",
       "  <tbody>\n",
       "    <tr>\n",
       "      <th>0</th>\n",
       "      <td>1</td>\n",
       "      <td>0</td>\n",
       "      <td>3</td>\n",
       "      <td>Braund, Mr. Owen Harris</td>\n",
       "      <td>male</td>\n",
       "      <td>22.0</td>\n",
       "      <td>1</td>\n",
       "      <td>0</td>\n",
       "      <td>A/5 21171</td>\n",
       "      <td>7.2500</td>\n",
       "      <td>NaN</td>\n",
       "      <td>S</td>\n",
       "    </tr>\n",
       "    <tr>\n",
       "      <th>1</th>\n",
       "      <td>2</td>\n",
       "      <td>1</td>\n",
       "      <td>1</td>\n",
       "      <td>Cumings, Mrs. John Bradley (Florence Briggs Th...</td>\n",
       "      <td>female</td>\n",
       "      <td>38.0</td>\n",
       "      <td>1</td>\n",
       "      <td>0</td>\n",
       "      <td>PC 17599</td>\n",
       "      <td>71.2833</td>\n",
       "      <td>C85</td>\n",
       "      <td>C</td>\n",
       "    </tr>\n",
       "    <tr>\n",
       "      <th>2</th>\n",
       "      <td>3</td>\n",
       "      <td>1</td>\n",
       "      <td>3</td>\n",
       "      <td>Heikkinen, Miss. Laina</td>\n",
       "      <td>female</td>\n",
       "      <td>26.0</td>\n",
       "      <td>0</td>\n",
       "      <td>0</td>\n",
       "      <td>STON/O2. 3101282</td>\n",
       "      <td>7.9250</td>\n",
       "      <td>NaN</td>\n",
       "      <td>S</td>\n",
       "    </tr>\n",
       "    <tr>\n",
       "      <th>3</th>\n",
       "      <td>4</td>\n",
       "      <td>1</td>\n",
       "      <td>1</td>\n",
       "      <td>Futrelle, Mrs. Jacques Heath (Lily May Peel)</td>\n",
       "      <td>female</td>\n",
       "      <td>35.0</td>\n",
       "      <td>1</td>\n",
       "      <td>0</td>\n",
       "      <td>113803</td>\n",
       "      <td>53.1000</td>\n",
       "      <td>C123</td>\n",
       "      <td>S</td>\n",
       "    </tr>\n",
       "    <tr>\n",
       "      <th>4</th>\n",
       "      <td>5</td>\n",
       "      <td>0</td>\n",
       "      <td>3</td>\n",
       "      <td>Allen, Mr. William Henry</td>\n",
       "      <td>male</td>\n",
       "      <td>35.0</td>\n",
       "      <td>0</td>\n",
       "      <td>0</td>\n",
       "      <td>373450</td>\n",
       "      <td>8.0500</td>\n",
       "      <td>NaN</td>\n",
       "      <td>S</td>\n",
       "    </tr>\n",
       "  </tbody>\n",
       "</table>\n",
       "</div>"
      ],
      "text/plain": [
       "   PassengerId  Survived  Pclass  \\\n",
       "0            1         0       3   \n",
       "1            2         1       1   \n",
       "2            3         1       3   \n",
       "3            4         1       1   \n",
       "4            5         0       3   \n",
       "\n",
       "                                                Name     Sex   Age  SibSp  \\\n",
       "0                            Braund, Mr. Owen Harris    male  22.0      1   \n",
       "1  Cumings, Mrs. John Bradley (Florence Briggs Th...  female  38.0      1   \n",
       "2                             Heikkinen, Miss. Laina  female  26.0      0   \n",
       "3       Futrelle, Mrs. Jacques Heath (Lily May Peel)  female  35.0      1   \n",
       "4                           Allen, Mr. William Henry    male  35.0      0   \n",
       "\n",
       "   Parch            Ticket     Fare Cabin Embarked  \n",
       "0      0         A/5 21171   7.2500   NaN        S  \n",
       "1      0          PC 17599  71.2833   C85        C  \n",
       "2      0  STON/O2. 3101282   7.9250   NaN        S  \n",
       "3      0            113803  53.1000  C123        S  \n",
       "4      0            373450   8.0500   NaN        S  "
      ]
     },
     "execution_count": 44,
     "metadata": {},
     "output_type": "execute_result"
    }
   ],
   "source": [
    "# reading first five rows in a dataset\n",
    "df.head()"
   ]
  },
  {
   "cell_type": "code",
   "execution_count": 45,
   "id": "f9639409-0cee-48a2-b112-6f08adbce165",
   "metadata": {},
   "outputs": [],
   "source": [
    "# instantiate connection to database\n",
    "con = sqlite3.connect('sample.db')"
   ]
  },
  {
   "cell_type": "code",
   "execution_count": 46,
   "id": "4edbbaf9-4440-4418-9823-4a7e4aea1379",
   "metadata": {},
   "outputs": [],
   "source": [
    "# creating cursor object\n",
    "cursor = con.cursor()"
   ]
  },
  {
   "cell_type": "code",
   "execution_count": 49,
   "id": "349f9c9d-f60e-4d6b-bf5d-a0939cdd0f1f",
   "metadata": {
    "tags": []
   },
   "outputs": [],
   "source": [
    "# creating a new titanic table in sample database\n",
    "df.to_sql('titanic', con)"
   ]
  },
  {
   "cell_type": "code",
   "execution_count": 50,
   "id": "7e7ffa50-3d12-42be-a2ce-6ce4049def54",
   "metadata": {},
   "outputs": [],
   "source": [
    "# defining empty list\n",
    "lst = []\n",
    "# looping in titanic table and appending new list\n",
    "for rows in cursor.execute('''SELECT * \n",
    "                              FROM titanic'''\n",
    "                          ):\n",
    "    lst.append(rows)"
   ]
  },
  {
   "cell_type": "code",
   "execution_count": 53,
   "id": "91a33b74-f887-43f3-b35b-04e1576bc166",
   "metadata": {},
   "outputs": [
    {
     "data": {
      "text/plain": [
       "[(0,\n",
       "  1,\n",
       "  0,\n",
       "  3,\n",
       "  'Braund, Mr. Owen Harris',\n",
       "  'male',\n",
       "  22.0,\n",
       "  1,\n",
       "  0,\n",
       "  'A/5 21171',\n",
       "  7.25,\n",
       "  None,\n",
       "  'S'),\n",
       " (1,\n",
       "  2,\n",
       "  1,\n",
       "  1,\n",
       "  'Cumings, Mrs. John Bradley (Florence Briggs Thayer)',\n",
       "  'female',\n",
       "  38.0,\n",
       "  1,\n",
       "  0,\n",
       "  'PC 17599',\n",
       "  71.2833,\n",
       "  'C85',\n",
       "  'C'),\n",
       " (2,\n",
       "  3,\n",
       "  1,\n",
       "  3,\n",
       "  'Heikkinen, Miss. Laina',\n",
       "  'female',\n",
       "  26.0,\n",
       "  0,\n",
       "  0,\n",
       "  'STON/O2. 3101282',\n",
       "  7.925,\n",
       "  None,\n",
       "  'S')]"
      ]
     },
     "execution_count": 53,
     "metadata": {},
     "output_type": "execute_result"
    }
   ],
   "source": [
    "# checking some values in list\n",
    "lst[0:3]"
   ]
  },
  {
   "cell_type": "code",
   "execution_count": 54,
   "id": "bfa375c2-7093-49a9-a132-13c427599a53",
   "metadata": {},
   "outputs": [
    {
     "data": {
      "text/plain": [
       "[(4,\n",
       "  5,\n",
       "  0,\n",
       "  3,\n",
       "  'Allen, Mr. William Henry',\n",
       "  'male',\n",
       "  35.0,\n",
       "  0,\n",
       "  0,\n",
       "  '373450',\n",
       "  8.05,\n",
       "  None,\n",
       "  'S')]"
      ]
     },
     "execution_count": 54,
     "metadata": {},
     "output_type": "execute_result"
    }
   ],
   "source": [
    "cursor.execute('''SELECT * \n",
    "                  FROM titanic\n",
    "                  WHERE PassengerId = 5''').fetchall()"
   ]
  },
  {
   "cell_type": "code",
   "execution_count": 55,
   "id": "6c386204-2ef9-4b94-8c59-6603056b825f",
   "metadata": {},
   "outputs": [
    {
     "data": {
      "text/plain": [
       "[(None,),\n",
       " ('A10',),\n",
       " ('A14',),\n",
       " ('A16',),\n",
       " ('A19',),\n",
       " ('A20',),\n",
       " ('A23',),\n",
       " ('A24',),\n",
       " ('A26',),\n",
       " ('A31',)]"
      ]
     },
     "execution_count": 55,
     "metadata": {},
     "output_type": "execute_result"
    }
   ],
   "source": [
    "cursor.execute('''SELECT Cabin \n",
    "                  FROM titanic\n",
    "                  GROUP BY Cabin\n",
    "                  LIMIT 10\n",
    "                  ''').fetchall()"
   ]
  },
  {
   "cell_type": "code",
   "execution_count": 56,
   "id": "fd9c398f-d9e7-4303-a11d-e4539f91d5d0",
   "metadata": {},
   "outputs": [
    {
     "data": {
      "text/plain": [
       "[(32.2042079685746,)]"
      ]
     },
     "execution_count": 56,
     "metadata": {},
     "output_type": "execute_result"
    }
   ],
   "source": [
    "cursor.execute('''SELECT\n",
    "                      AVG (Fare) \n",
    "                  FROM titanic\n",
    "                  ''').fetchall()"
   ]
  },
  {
   "cell_type": "code",
   "execution_count": 57,
   "id": "48926c63-ab57-48f3-843a-f5cebd753ab4",
   "metadata": {},
   "outputs": [
    {
     "data": {
      "text/plain": [
       "[(29.69911764705882,)]"
      ]
     },
     "execution_count": 57,
     "metadata": {},
     "output_type": "execute_result"
    }
   ],
   "source": [
    "cursor.execute('''SELECT\n",
    "                      AVG (Age) \n",
    "                  FROM titanic\n",
    "                  ''').fetchall()"
   ]
  },
  {
   "cell_type": "code",
   "execution_count": 58,
   "id": "30b97a60-c2ac-49c8-b6dc-8d445786a3af",
   "metadata": {},
   "outputs": [],
   "source": [
    "#Commit changes to database\n",
    "con.commit()"
   ]
  },
  {
   "cell_type": "code",
   "execution_count": 60,
   "id": "92a1b20f-8e34-4a4a-80ee-80fafa768819",
   "metadata": {},
   "outputs": [],
   "source": [
    "# Closing the connection\n",
    "con.close()"
   ]
  },
  {
   "cell_type": "markdown",
   "id": "7c972194-c0c1-4a9d-8d04-6332285f8845",
   "metadata": {},
   "source": [
    "<b>In conclusion, Relational databases store data in tables. Tables can grow large and have a multitude of columns and records. Relational database management systems (RDBMS) use SQL (and different types of SQL) to access and manage the data in these large tables."
   ]
  }
 ],
 "metadata": {
  "kernelspec": {
   "display_name": "Python 3",
   "language": "python",
   "name": "python3"
  },
  "language_info": {
   "codemirror_mode": {
    "name": "ipython",
    "version": 3
   },
   "file_extension": ".py",
   "mimetype": "text/x-python",
   "name": "python",
   "nbconvert_exporter": "python",
   "pygments_lexer": "ipython3",
   "version": "3.9.1"
  }
 },
 "nbformat": 4,
 "nbformat_minor": 5
}
